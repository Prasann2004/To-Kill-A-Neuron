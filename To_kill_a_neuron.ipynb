{
 "cells": [
  {
   "cell_type": "markdown",
   "metadata": {},
   "source": [
    "# **<center>Killing A Neuron🔪🧠<center>**"
   ]
  },
  {
   "cell_type": "code",
   "execution_count": 141,
   "metadata": {},
   "outputs": [
    {
     "data": {
      "text/html": [
       "<div>\n",
       "<style scoped>\n",
       "    .dataframe tbody tr th:only-of-type {\n",
       "        vertical-align: middle;\n",
       "    }\n",
       "\n",
       "    .dataframe tbody tr th {\n",
       "        vertical-align: top;\n",
       "    }\n",
       "\n",
       "    .dataframe thead th {\n",
       "        text-align: right;\n",
       "    }\n",
       "</style>\n",
       "<table border=\"1\" class=\"dataframe\">\n",
       "  <thead>\n",
       "    <tr style=\"text-align: right;\">\n",
       "      <th></th>\n",
       "      <th>C_0</th>\n",
       "      <th>C_1</th>\n",
       "      <th>C_2</th>\n",
       "      <th>C_3</th>\n",
       "      <th>target</th>\n",
       "    </tr>\n",
       "  </thead>\n",
       "  <tbody>\n",
       "    <tr>\n",
       "      <th>0</th>\n",
       "      <td>-1.172354</td>\n",
       "      <td>-0.533254</td>\n",
       "      <td>-1.284619</td>\n",
       "      <td>1.452159</td>\n",
       "      <td>0</td>\n",
       "    </tr>\n",
       "    <tr>\n",
       "      <th>1</th>\n",
       "      <td>-2.051463</td>\n",
       "      <td>-1.496670</td>\n",
       "      <td>1.824016</td>\n",
       "      <td>-1.881343</td>\n",
       "      <td>0</td>\n",
       "    </tr>\n",
       "    <tr>\n",
       "      <th>2</th>\n",
       "      <td>-2.908707</td>\n",
       "      <td>-1.720212</td>\n",
       "      <td>0.605944</td>\n",
       "      <td>-1.197363</td>\n",
       "      <td>2</td>\n",
       "    </tr>\n",
       "    <tr>\n",
       "      <th>3</th>\n",
       "      <td>-1.799285</td>\n",
       "      <td>-1.060268</td>\n",
       "      <td>-0.667529</td>\n",
       "      <td>1.139232</td>\n",
       "      <td>0</td>\n",
       "    </tr>\n",
       "    <tr>\n",
       "      <th>4</th>\n",
       "      <td>-1.673138</td>\n",
       "      <td>-0.553859</td>\n",
       "      <td>-0.621898</td>\n",
       "      <td>-1.239415</td>\n",
       "      <td>2</td>\n",
       "    </tr>\n",
       "  </tbody>\n",
       "</table>\n",
       "</div>"
      ],
      "text/plain": [
       "        C_0       C_1       C_2       C_3  target\n",
       "0 -1.172354 -0.533254 -1.284619  1.452159       0\n",
       "1 -2.051463 -1.496670  1.824016 -1.881343       0\n",
       "2 -2.908707 -1.720212  0.605944 -1.197363       2\n",
       "3 -1.799285 -1.060268 -0.667529  1.139232       0\n",
       "4 -1.673138 -0.553859 -0.621898 -1.239415       2"
      ]
     },
     "execution_count": 141,
     "metadata": {},
     "output_type": "execute_result"
    }
   ],
   "source": [
    "import pandas as pd\n",
    "import numpy as np\n",
    "from sklearn.preprocessing import OneHotEncoder\n",
    "from sklearn.model_selection import train_test_split\n",
    "from copy import deepcopy\n",
    "import keras\n",
    "from keras.models import Sequential\n",
    "from keras.layers import Dense\n",
    "from sklearn.metrics import confusion_matrix\n",
    "keras.utils.set_random_seed(69)\n",
    "data=pd.read_csv('Random_Exp_Data.csv')\n",
    "data.drop('Unnamed: 0',axis=1,inplace=True)\n",
    "data.head()"
   ]
  },
  {
   "cell_type": "code",
   "execution_count": 142,
   "metadata": {},
   "outputs": [],
   "source": [
    "X=data.drop('target',axis=1)\n",
    "y=data['target'].to_numpy()"
   ]
  },
  {
   "cell_type": "code",
   "execution_count": 143,
   "metadata": {},
   "outputs": [],
   "source": [
    "enc = OneHotEncoder(handle_unknown='ignore')\n",
    "enc.fit(y.reshape(-1,1))\n",
    "y=enc.transform(y.reshape(-1,1)).toarray()"
   ]
  },
  {
   "cell_type": "code",
   "execution_count": 144,
   "metadata": {},
   "outputs": [],
   "source": [
    "x_train, x_test, y_train, y_test= train_test_split(X, y, test_size= 0.25, random_state=69)"
   ]
  },
  {
   "cell_type": "code",
   "execution_count": 145,
   "metadata": {},
   "outputs": [],
   "source": [
    "model = Sequential()\n",
    "model.add(Dense(3, input_dim = 4, activation = 'relu'))\n",
    "model.add(Dense(3, activation = 'relu'))\n",
    "model.add(Dense(3, activation = 'softmax'))"
   ]
  },
  {
   "cell_type": "code",
   "execution_count": 146,
   "metadata": {},
   "outputs": [
    {
     "name": "stdout",
     "output_type": "stream",
     "text": [
      "Epoch 1/15\n"
     ]
    },
    {
     "name": "stdout",
     "output_type": "stream",
     "text": [
      "150/150 [==============================] - 1s 2ms/step - loss: 1.2571 - accuracy: 0.2267\n",
      "Epoch 2/15\n",
      "150/150 [==============================] - 0s 2ms/step - loss: 1.1602 - accuracy: 0.2373\n",
      "Epoch 3/15\n",
      "150/150 [==============================] - 0s 2ms/step - loss: 1.1149 - accuracy: 0.2853\n",
      "Epoch 4/15\n",
      "150/150 [==============================] - 0s 2ms/step - loss: 1.0807 - accuracy: 0.4347\n",
      "Epoch 5/15\n",
      "150/150 [==============================] - 0s 1ms/step - loss: 1.0440 - accuracy: 0.4920\n",
      "Epoch 6/15\n",
      "150/150 [==============================] - 0s 1ms/step - loss: 0.9923 - accuracy: 0.5093\n",
      "Epoch 7/15\n",
      "150/150 [==============================] - 0s 1ms/step - loss: 0.9262 - accuracy: 0.5360\n",
      "Epoch 8/15\n",
      "150/150 [==============================] - 0s 1ms/step - loss: 0.8568 - accuracy: 0.6347\n",
      "Epoch 9/15\n",
      "150/150 [==============================] - 0s 2ms/step - loss: 0.7870 - accuracy: 0.7093\n",
      "Epoch 10/15\n",
      "150/150 [==============================] - 0s 2ms/step - loss: 0.7284 - accuracy: 0.7507\n",
      "Epoch 11/15\n",
      "150/150 [==============================] - 0s 1ms/step - loss: 0.6770 - accuracy: 0.7667\n",
      "Epoch 12/15\n",
      "150/150 [==============================] - 0s 1ms/step - loss: 0.6186 - accuracy: 0.7787\n",
      "Epoch 13/15\n",
      "150/150 [==============================] - 0s 1ms/step - loss: 0.5645 - accuracy: 0.7933\n",
      "Epoch 14/15\n",
      "150/150 [==============================] - 0s 1ms/step - loss: 0.5257 - accuracy: 0.7987\n",
      "Epoch 15/15\n",
      "150/150 [==============================] - 0s 2ms/step - loss: 0.5023 - accuracy: 0.8000\n",
      "8/8 [==============================] - 0s 2ms/step - loss: 0.4504 - accuracy: 0.8320\n",
      "8/8 [==============================] - 0s 959us/step\n"
     ]
    }
   ],
   "source": [
    "model.compile(loss = 'categorical_crossentropy', optimizer = 'adam', metrics = ['accuracy'])\n",
    "model.fit(x_train, y_train, epochs = 15, batch_size = 5)\n",
    "scores = model.evaluate(x_test, y_test)\n",
    "y_pred=model.predict(x_test)\n",
    "y_pred_l=[]\n",
    "for i in range(len(y_pred)):\n",
    "    max_=np.argmax(y_pred[i])\n",
    "    y_pred_l.append(max_)\n",
    "y_pred_l=np.array(y_pred_l)\n",
    "y_test_l=[]\n",
    "for i in range(len(y_test)):\n",
    "    max_=np.argmax(y_test[i])\n",
    "    y_test_l.append(max_)\n",
    "y_test_l=np.array(y_test_l)"
   ]
  },
  {
   "cell_type": "code",
   "execution_count": 147,
   "metadata": {},
   "outputs": [
    {
     "data": {
      "text/plain": [
       "array([[72,  0,  5],\n",
       "       [ 0, 65, 15],\n",
       "       [ 9, 13, 71]], dtype=int64)"
      ]
     },
     "execution_count": 147,
     "metadata": {},
     "output_type": "execute_result"
    }
   ],
   "source": [
    "confusion_matrix(y_test_l,y_pred_l)"
   ]
  },
  {
   "cell_type": "code",
   "execution_count": 148,
   "metadata": {},
   "outputs": [],
   "source": [
    "weights = np.array(model.get_weights(),dtype=object)"
   ]
  },
  {
   "cell_type": "code",
   "execution_count": 149,
   "metadata": {},
   "outputs": [],
   "source": [
    "a = deepcopy(weights)"
   ]
  },
  {
   "cell_type": "code",
   "execution_count": 150,
   "metadata": {},
   "outputs": [
    {
     "name": "stdout",
     "output_type": "stream",
     "text": [
      "Killing Neuron 0 in Layer 0\n",
      "8/8 [==============================] - 0s 5ms/step - loss: 0.6307 - accuracy: 0.6000\n",
      "8/8 [==============================] - 0s 1ms/step\n",
      "[[73  2  2]\n",
      " [ 5 74  1]\n",
      " [65 25  3]]\n",
      "Killing Neuron 1 in Layer 0\n",
      "8/8 [==============================] - 0s 2ms/step - loss: 1.1424 - accuracy: 0.5760\n",
      "8/8 [==============================] - 0s 2ms/step\n",
      "[[73  0  4]\n",
      " [67  0 13]\n",
      " [22  0 71]]\n",
      "Killing Neuron 2 in Layer 0\n",
      "8/8 [==============================] - 0s 1ms/step - loss: 0.7204 - accuracy: 0.6560\n",
      "8/8 [==============================] - 0s 1ms/step\n",
      "[[23  0 54]\n",
      " [ 0 65 15]\n",
      " [ 2 15 76]]\n",
      "Killing Neuron 0 in Layer 1\n",
      "8/8 [==============================] - 0s 2ms/step - loss: 0.6981 - accuracy: 0.6200\n",
      "8/8 [==============================] - 0s 1ms/step\n",
      "[[72  0  5]\n",
      " [ 1  0 79]\n",
      " [10  0 83]]\n",
      "Killing Neuron 1 in Layer 1\n",
      "8/8 [==============================] - 0s 1ms/step - loss: 0.8602 - accuracy: 0.5680\n",
      "8/8 [==============================] - 0s 1ms/step\n",
      "[[ 0 32 45]\n",
      " [ 0 65 15]\n",
      " [ 0 16 77]]\n",
      "Killing Neuron 2 in Layer 1\n",
      "8/8 [==============================] - 0s 1ms/step - loss: 0.6105 - accuracy: 0.8120\n",
      "8/8 [==============================] - 0s 1ms/step\n",
      "[[73  0  4]\n",
      " [ 0 70 10]\n",
      " [14 19 60]]\n",
      "Killing Neuron 0 in Layer 2\n",
      "8/8 [==============================] - 0s 2ms/step - loss: 0.7002 - accuracy: 0.7800\n",
      "8/8 [==============================] - 0s 1ms/step\n",
      "[[71  0  6]\n",
      " [ 1 65 14]\n",
      " [21 13 59]]\n",
      "Killing Neuron 1 in Layer 2\n",
      "8/8 [==============================] - 0s 1ms/step - loss: 0.6551 - accuracy: 0.7360\n",
      "8/8 [==============================] - 0s 2ms/step\n",
      "[[71  1  5]\n",
      " [ 0 55 25]\n",
      " [ 9 26 58]]\n",
      "Killing Neuron 2 in Layer 2\n",
      "8/8 [==============================] - 0s 2ms/step - loss: 0.4516 - accuracy: 0.8320\n",
      "8/8 [==============================] - 0s 1ms/step\n",
      "[[71  0  6]\n",
      " [ 0 66 14]\n",
      " [ 9 13 71]]\n"
     ]
    }
   ],
   "source": [
    "for i in range(3):\n",
    "    for j in range(3):\n",
    "        a = deepcopy(weights)\n",
    "        print(f'Killing Neuron {j} in Layer {i}')\n",
    "        neuron_weights = a[2*i][:,j]\n",
    "        neuron_bias = a[2*i+1][j]\n",
    "        neuron_weights[:]=0\n",
    "        neuron_bias=0\n",
    "        a[2*i][:,j]=neuron_weights\n",
    "        a[2*i+1][j]=neuron_bias\n",
    "        model.set_weights(a)\n",
    "        scores = model.evaluate(x_test, y_test)\n",
    "        y_pred=model.predict(x_test)\n",
    "        y_pred_l=[]\n",
    "        for k in range(len(y_pred)):\n",
    "            max_=np.argmax(y_pred[k])\n",
    "            y_pred_l.append(max_)\n",
    "        y_pred_l=np.array(y_pred_l)\n",
    "        y_test_l=[]\n",
    "        for k in range(len(y_test)):\n",
    "            max_=np.argmax(y_test[k])\n",
    "            y_test_l.append(max_)\n",
    "        y_test_l=np.array(y_test_l)\n",
    "        print(confusion_matrix(y_test_l,y_pred_l))\n",
    "    "
   ]
  }
 ],
 "metadata": {
  "kernelspec": {
   "display_name": "Python 3",
   "language": "python",
   "name": "python3"
  },
  "language_info": {
   "codemirror_mode": {
    "name": "ipython",
    "version": 3
   },
   "file_extension": ".py",
   "mimetype": "text/x-python",
   "name": "python",
   "nbconvert_exporter": "python",
   "pygments_lexer": "ipython3",
   "version": "3.11.1"
  }
 },
 "nbformat": 4,
 "nbformat_minor": 2
}
